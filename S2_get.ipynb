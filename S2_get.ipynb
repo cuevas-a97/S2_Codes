{
 "cells": [
  {
   "cell_type": "code",
   "execution_count": 1,
   "id": "e0439500",
   "metadata": {
    "tags": []
   },
   "outputs": [],
   "source": [
    "import matplotlib as mp\n",
    "import matplotlib.pyplot as plt\n",
    "import matplotlib.colors as mcolors\n",
    "import glob\n",
    "import sys\n",
    "import os\n",
    "from scipy.interpolate import interpolate\n",
    "from scipy.interpolate import RectBivariateSpline\n",
    "from scipy.interpolate import griddata\n",
    "from skimage.filters import sobel\n",
    "\n",
    "\n",
    "from spectral_analysis_functions import *\n",
    "# Using OceanDataLab reader \n",
    "#from sentinel2_l1c import *\n",
    "import numpy as np\n",
    "from S2_read import *\n",
    "from s2_angs import *\n",
    "# bands=['B04','B08','B03','B02'];  \n",
    "\n"
   ]
  },
  {
   "cell_type": "code",
   "execution_count": 2,
   "id": "b86ff995",
   "metadata": {
    "scrolled": true,
    "tags": []
   },
   "outputs": [
    {
     "ename": "NameError",
     "evalue": "name 'S2path' is not defined",
     "output_type": "error",
     "traceback": [
      "\u001b[0;31m---------------------------------------------------------------------------\u001b[0m",
      "\u001b[0;31mNameError\u001b[0m                                 Traceback (most recent call last)",
      "Cell \u001b[0;32mIn[2], line 1\u001b[0m\n\u001b[0;32m----> 1\u001b[0m XML_File \u001b[38;5;241m=\u001b[39m find(\u001b[38;5;124m'\u001b[39m\u001b[38;5;124mMTD_TL.xml\u001b[39m\u001b[38;5;124m'\u001b[39m, \u001b[43mS2path\u001b[49m)\n\u001b[1;32m      2\u001b[0m XML_File_DS\u001b[38;5;241m=\u001b[39mfind(\u001b[38;5;124m'\u001b[39m\u001b[38;5;124mMTD_DS.xml\u001b[39m\u001b[38;5;124m'\u001b[39m,S2path)\n\u001b[1;32m      3\u001b[0m \u001b[38;5;28;01mif\u001b[39;00m XML_File \u001b[38;5;129;01mis\u001b[39;00m \u001b[38;5;28;01mNone\u001b[39;00m:\n",
      "\u001b[0;31mNameError\u001b[0m: name 'S2path' is not defined"
     ]
    }
   ],
   "source": [
    "XML_File = find('MTD_TL.xml', S2path)\n",
    "XML_File_DS=find('MTD_DS.xml',S2path)\n",
    "if XML_File is None:\n",
    "    print(\"Le fichier 'MTD_TL.xml' n'a pas été trouvé dans le répertoire spécifié:\", S2path)\n",
    "#else:\n",
    " #   (tile_id, AngleObs, AngleSun) = get_angleobs(XML_File)\n",
    "#    print('Reading XML file for view and sun angles:', XML_File)\n",
    "    \n",
    "#boxi1=[4400,5200,3600,4400] # East West South North : this box is covered by another detector\n",
    "# boxi1=[6800,7600,7000,7800] # East West South North : this box is covered by another detector\n",
    "# [imgs1,NX1,NY1,nx1,ny1,dx1,dy1,offspec1,phitrig1,thetav1,loncenter1,latcenter1,detector,indexX,indexY]=S2_read(S2path,boxi1,bands)\n",
    "#boxi=[5600,6400,3600,4400] # East West South North \n",
    "# boxi=[9000, 10000, 7000, 11000] # East West South North modif\n",
    "\n",
    "[imgs,NX,NY,nx,ny,dx,dy,offspec,phitrig,thetav,loncenter,latcenter,detector,indexX,indexY]=S2_read(S2path,boxi,bands)\n",
    "\n",
    "        "
   ]
  },
  {
   "cell_type": "code",
   "execution_count": null,
   "id": "5686c52d",
   "metadata": {
    "tags": []
   },
   "outputs": [],
   "source": [
    "print('lon,lat:',np.degrees(loncenter),np.degrees(latcenter))\n",
    "\n",
    "nb=np.shape(bands)[0]\n",
    "\n",
    "\n",
    "array1=np.squeeze(detector[1,:,:])\n",
    "fig, ax = plt.subplots() \n",
    "im=ax.pcolor(indexX,indexY,array1)\n",
    "fig.colorbar(im)\n",
    "ax.set_title('detector index and FFT box location')\n",
    "ax.set_xlabel('pixel index')\n",
    "ax.set_ylabel('pixel index')\n",
    "ax.axis('equal')\n",
    "rect = mp.patches.Rectangle((boxi[0], boxi[2]), boxi[1]-boxi[0], boxi[3]-boxi[2], linewidth=2,\n",
    "                         edgecolor='k', facecolor=\"none\")\n",
    "# rect1 = mp.patches.Rectangle((boxi1[0], boxi1[2]), boxi1[1]-boxi1[0], boxi1[3]-boxi1[2], linewidth=2,\n",
    "#                          edgecolor='r', facecolor=\"none\")\n",
    "# ax.add_patch(rect1)\n",
    "\n",
    "ax.add_patch(rect)\n",
    "plt.show()"
   ]
  },
  {
   "cell_type": "code",
   "execution_count": null,
   "id": "1e375754",
   "metadata": {
    "tags": []
   },
   "outputs": [],
   "source": [
    "# print('lon1,lat1:',loncenter,latcenter)\n",
    "# print('lon,lat:',np.degrees(loncenter),np.degrees(latcenter))\n",
    "# print('indexX','indexY',indexX,indexY)\n",
    "# np.max(indexX)\n",
    "# np.min(indexY)\n",
    "\n",
    "# np.shape(array1)\n",
    "# print('indexX',np.shape(indexX))\n",
    "# print('indexY',np.shape(indexY))\n",
    "# indexX"
   ]
  },
  {
   "cell_type": "code",
   "execution_count": null,
   "id": "e182e3d0",
   "metadata": {},
   "outputs": [],
   "source": [
    "# Conversion radian degree en gardant les float\n",
    "\n",
    "loncenter=loncenter*180/(math.pi)\n",
    "latcenter=latcenter*180/(math.pi)\n",
    "\n",
    "# loncenter1=loncenter1*180/(math.pi)\n",
    "# latcenter1=latcenter1*180/(math.pi)\n",
    "\n"
   ]
  },
  {
   "cell_type": "code",
   "execution_count": 3,
   "id": "c81ff9d1",
   "metadata": {},
   "outputs": [
    {
     "ename": "NameError",
     "evalue": "name 'boxi' is not defined",
     "output_type": "error",
     "traceback": [
      "\u001b[0;31m---------------------------------------------------------------------------\u001b[0m",
      "\u001b[0;31mNameError\u001b[0m                                 Traceback (most recent call last)",
      "Cell \u001b[0;32mIn[3], line 7\u001b[0m\n\u001b[1;32m      4\u001b[0m     centrey\u001b[38;5;241m=\u001b[39my0\u001b[38;5;241m+\u001b[39mtaille_boite\u001b[38;5;241m/\u001b[39m\u001b[38;5;241m2\u001b[39m\n\u001b[1;32m      5\u001b[0m     \u001b[38;5;28;01mreturn\u001b[39;00m centrex, centrey\n\u001b[0;32m----> 7\u001b[0m x0\u001b[38;5;241m=\u001b[39m\u001b[43mboxi\u001b[49m[\u001b[38;5;241m0\u001b[39m]\n\u001b[1;32m      8\u001b[0m y0\u001b[38;5;241m=\u001b[39mboxi[\u001b[38;5;241m2\u001b[39m]\n\u001b[1;32m      9\u001b[0m cote\u001b[38;5;241m=\u001b[39mboxi[\u001b[38;5;241m1\u001b[39m]\u001b[38;5;241m-\u001b[39mboxi[\u001b[38;5;241m0\u001b[39m]\n",
      "\u001b[0;31mNameError\u001b[0m: name 'boxi' is not defined"
     ]
    }
   ],
   "source": [
    "# On determine le centre de la boîte en pixel\n",
    "def centre_carre(x0,xy0,taille_boite):\n",
    "    centrex=x0+taille_boite/2\n",
    "    centrey=y0+taille_boite/2\n",
    "    return centrex, centrey\n",
    "\n",
    "x0=boxi[0]\n",
    "y0=boxi[2]\n",
    "cote=boxi[1]-boxi[0]\n",
    "centre=centre_carre(x0,y0,cote)"
   ]
  },
  {
   "cell_type": "code",
   "execution_count": 4,
   "id": "b654e794",
   "metadata": {},
   "outputs": [
    {
     "ename": "NameError",
     "evalue": "name 'indexX' is not defined",
     "output_type": "error",
     "traceback": [
      "\u001b[0;31m---------------------------------------------------------------------------\u001b[0m",
      "\u001b[0;31mNameError\u001b[0m                                 Traceback (most recent call last)",
      "Cell \u001b[0;32mIn[4], line 2\u001b[0m\n\u001b[1;32m      1\u001b[0m \u001b[38;5;66;03m# print('indexX',indexX)\u001b[39;00m\n\u001b[0;32m----> 2\u001b[0m indexX2, indexY2 \u001b[38;5;241m=\u001b[39m np\u001b[38;5;241m.\u001b[39mmeshgrid(\u001b[43mindexX\u001b[49m, indexY)\n\u001b[1;32m      3\u001b[0m \u001b[38;5;28mprint\u001b[39m(\u001b[38;5;124m'\u001b[39m\u001b[38;5;124mshape indexX\u001b[39m\u001b[38;5;124m'\u001b[39m,np\u001b[38;5;241m.\u001b[39mshape(indexX))\n\u001b[1;32m      4\u001b[0m \u001b[38;5;28mprint\u001b[39m(\u001b[38;5;124m'\u001b[39m\u001b[38;5;124mshape indexY\u001b[39m\u001b[38;5;124m'\u001b[39m,np\u001b[38;5;241m.\u001b[39mshape(indexY))\n",
      "\u001b[0;31mNameError\u001b[0m: name 'indexX' is not defined"
     ]
    }
   ],
   "source": [
    "# print('indexX',indexX)\n",
    "indexX2, indexY2 = np.meshgrid(indexX, indexY)\n",
    "print('shape indexX',np.shape(indexX))\n",
    "print('shape indexY',np.shape(indexY))\n",
    "print('shape array1',np.shape(array1))\n",
    "\n",
    "\n",
    "# Aplatir les grilles et les valeurs pour utiliser dans griddata\n",
    "points = np.column_stack((indexX.ravel(), indexY.ravel()))\n",
    "values = array1.ravel()\n",
    "\n",
    "# Interpolation\n",
    "value = griddata(points, values, centre, method='linear')\n",
    "value = value.item()  # Extraire la valeur si c'est un tableau 1D avec un seul élément\n",
    "print(value)"
   ]
  },
  {
   "cell_type": "code",
   "execution_count": 5,
   "id": "0ed66fff",
   "metadata": {},
   "outputs": [
    {
     "ename": "NameError",
     "evalue": "name 'value' is not defined",
     "output_type": "error",
     "traceback": [
      "\u001b[0;31m---------------------------------------------------------------------------\u001b[0m",
      "\u001b[0;31mNameError\u001b[0m                                 Traceback (most recent call last)",
      "Cell \u001b[0;32mIn[5], line 15\u001b[0m\n\u001b[1;32m      1\u001b[0m mapping \u001b[38;5;241m=\u001b[39m {\n\u001b[1;32m      2\u001b[0m     \u001b[38;5;241m1\u001b[39m: \u001b[38;5;124m'\u001b[39m\u001b[38;5;124mD01\u001b[39m\u001b[38;5;124m'\u001b[39m,\n\u001b[1;32m      3\u001b[0m     \u001b[38;5;241m2\u001b[39m: \u001b[38;5;124m'\u001b[39m\u001b[38;5;124mD02\u001b[39m\u001b[38;5;124m'\u001b[39m,\n\u001b[0;32m   (...)\u001b[0m\n\u001b[1;32m     13\u001b[0m     \u001b[38;5;241m12\u001b[39m: \u001b[38;5;124m'\u001b[39m\u001b[38;5;124mD12\u001b[39m\u001b[38;5;124m'\u001b[39m\n\u001b[1;32m     14\u001b[0m }\n\u001b[0;32m---> 15\u001b[0m \u001b[38;5;28;01mif\u001b[39;00m \u001b[38;5;28mround\u001b[39m(\u001b[43mvalue\u001b[49m) \u001b[38;5;129;01min\u001b[39;00m mapping:\n\u001b[1;32m     16\u001b[0m     Det \u001b[38;5;241m=\u001b[39m mapping[\u001b[38;5;28mround\u001b[39m(value)]\n\u001b[1;32m     17\u001b[0m \u001b[38;5;28;01melse\u001b[39;00m:\n\u001b[1;32m     18\u001b[0m     \u001b[38;5;66;03m# Si la valeur arrondie n'est pas dans le dictionnaire, attribuez une valeur par défaut ou gérez l'erreur selon votre cas d'utilisation\u001b[39;00m\n",
      "\u001b[0;31mNameError\u001b[0m: name 'value' is not defined"
     ]
    }
   ],
   "source": [
    "mapping = {\n",
    "    1: 'D01',\n",
    "    2: 'D02',\n",
    "    3: 'D03',\n",
    "    4: 'D04',\n",
    "    5: 'D05',\n",
    "    6: 'D06',\n",
    "    7: 'D07',\n",
    "    8: 'D08',\n",
    "    9: 'D09',\n",
    "    10: 'D10',\n",
    "    11: 'D11',\n",
    "    12: 'D12'\n",
    "}\n",
    "if round(value) in mapping:\n",
    "    Det = mapping[round(value)]\n",
    "else:\n",
    "    # Si la valeur arrondie n'est pas dans le dictionnaire, attribuez une valeur par défaut ou gérez l'erreur selon votre cas d'utilisation\n",
    "    Det = \"Valeur non trouvée\"\n",
    "print(Det)\n",
    "\n",
    "detector_find=int(value)"
   ]
  },
  {
   "cell_type": "code",
   "execution_count": 6,
   "id": "8b83466b",
   "metadata": {},
   "outputs": [
    {
     "ename": "NameError",
     "evalue": "name 'S2path' is not defined",
     "output_type": "error",
     "traceback": [
      "\u001b[0;31m---------------------------------------------------------------------------\u001b[0m",
      "\u001b[0;31mNameError\u001b[0m                                 Traceback (most recent call last)",
      "Cell \u001b[0;32mIn[6], line 1\u001b[0m\n\u001b[0;32m----> 1\u001b[0m datastrip_dir \u001b[38;5;241m=\u001b[39m os\u001b[38;5;241m.\u001b[39mpath\u001b[38;5;241m.\u001b[39mjoin(\u001b[43mS2path\u001b[49m, \u001b[38;5;124m\"\u001b[39m\u001b[38;5;124mDATASTRIP\u001b[39m\u001b[38;5;124m\"\u001b[39m)\n\u001b[1;32m      3\u001b[0m \u001b[38;5;66;03m# Liste des éléments dans le répertoire DATASTRIP\u001b[39;00m\n\u001b[1;32m      4\u001b[0m datastrip_contents \u001b[38;5;241m=\u001b[39m os\u001b[38;5;241m.\u001b[39mlistdir(datastrip_dir)\n",
      "\u001b[0;31mNameError\u001b[0m: name 'S2path' is not defined"
     ]
    }
   ],
   "source": [
    "datastrip_dir = os.path.join(S2path, \"DATASTRIP\")\n",
    "\n",
    "# Liste des éléments dans le répertoire DATASTRIP\n",
    "datastrip_contents = os.listdir(datastrip_dir)\n",
    "\n",
    "# Filtrer les répertoires dans datastrip_contents\n",
    "directories = [item for item in datastrip_contents if os.path.isdir(os.path.join(datastrip_dir, item))]\n",
    "\n",
    "# Vérifier qu'il y a exactement un répertoire dans DATASTRIP\n",
    "if len(directories) == 1:\n",
    "    # Si un seul répertoire est présent, construire le chemin vers MTD_DS.xml\n",
    "    xml_path = os.path.join(datastrip_dir, directories[0], \"MTD_DS.xml\")\n",
    "    print(xml_path)\n",
    "else:\n",
    "    print(\"Il n'y a pas exactement un seul répertoire dans DATASTRIP.\")"
   ]
  },
  {
   "cell_type": "code",
   "execution_count": 7,
   "id": "d69aaa8b",
   "metadata": {},
   "outputs": [
    {
     "name": "stdout",
     "output_type": "stream",
     "text": [
      "dt= usage: main_computeDT.py [-h] -lon LONGITUDE -lat LATITUDE -src SRC_BAND -dst\n"
     ]
    }
   ],
   "source": [
    "# Renaud Binet's Algo\n",
    "\n",
    "# !python main_computeDT.py -lon float\\(np.degrees\\(loncenter1\\)\\) -lat float\\(np.degrees\\(latcenter1\\)\\) -src B2 -dst B4 -det D11 -sat B -eph /home/acuevas/Bureau/S2_ALEXANDRA/S2B_MSIL1C_20230430T190919_N0509_R056_T10SBG_20230430T211611.SAFE/DATASTRIP/DS_2BPS_20230430T211611_S20230430T191523/MTD_DS.xml\n",
    "# %run main_computeDT.py -lon float(np.degrees(loncenter1)) -lat float(np.degrees(latcenter1)) -src B2 -dst B4 -det D12 -sat B -eph /home/acuevas/Bureau/S2_ALEXANDRA/S2B_MSIL1C_20230430T190919_N0509_R056_T10SBG_20230430T211611.SAFE/DATASTRIP/DS_2BPS_20230430T211611_S20230430T191523/MTD_DS.xml\n",
    "\n",
    "# dt1=!python main_computeDT.py -lon {loncenter} -lat {latcenter} -src B2 -dst B4 -det {Det} -sat B -eph /home/acuevas/Bureau/S2_ALEXANDRA/S2B_MSIL1C_20230430T190919_N0509_R056_T10SBG_20230430T211611.SAFE/DATASTRIP/DS_2BPS_20230430T211611_S20230430T191523/MTD_DS.xml\n",
    "# dt1=!python main_computeDT.py -lon {loncenter} -lat {latcenter} -src B2 -dst B4 -det D12 -sat B -eph /home/acuevas/Bureau/S2_ALEXANDRA/S2B_MSIL1C_20230430T190919_N0509_R056_T10SBG_20230430T211611.SAFE/DATASTRIP/DS_2BPS_20230430T211611_S20230430T191523/MTD_DS.xml\n",
    "\n",
    "dt1=!python main_computeDT.py -lon {loncenter} -lat {latcenter} -src B2 -dst B4 -det {Det} -sat {Sat} -eph {xml_path}\n",
    "print('dt=',dt1[0])"
   ]
  },
  {
   "cell_type": "code",
   "execution_count": 8,
   "id": "abc1cef3",
   "metadata": {},
   "outputs": [],
   "source": [
    "# # ## Calcul du dt par le tableau dans Yurovsakya et al 2019\n",
    "\n",
    "# data = np.loadtxt('Inter_detector_time_lag_yetal2019.csv', delimiter=',')\n",
    "# inter_bandB2=data[1,int(detector_find-1)]\n",
    "# inter_bandB4=data[3,int(detector_find-1)]\n",
    "# # print(inter_bandB2)\n",
    "# # print(inter_bandB4)\n",
    "\n",
    "# dt1=inter_bandB4-inter_bandB2"
   ]
  },
  {
   "cell_type": "code",
   "execution_count": 9,
   "id": "9d1105bd",
   "metadata": {
    "tags": []
   },
   "outputs": [
    {
     "ename": "NameError",
     "evalue": "name 'imgs' is not defined",
     "output_type": "error",
     "traceback": [
      "\u001b[0;31m---------------------------------------------------------------------------\u001b[0m",
      "\u001b[0;31mNameError\u001b[0m                                 Traceback (most recent call last)",
      "Cell \u001b[0;32mIn[9], line 2\u001b[0m\n\u001b[1;32m      1\u001b[0m \u001b[38;5;66;03m# normalizes the image values\u001b[39;00m\n\u001b[0;32m----> 2\u001b[0m img1\u001b[38;5;241m=\u001b[39m\u001b[43mimgs\u001b[49m[\u001b[38;5;241m0\u001b[39m,:,:]\u001b[38;5;241m/\u001b[39mnp\u001b[38;5;241m.\u001b[39mmedian(imgs[\u001b[38;5;241m0\u001b[39m,:,:]\u001b[38;5;241m.\u001b[39mflatten())\n\u001b[1;32m      3\u001b[0m img2\u001b[38;5;241m=\u001b[39mimgs[\u001b[38;5;241m3\u001b[39m,:,:]\u001b[38;5;241m/\u001b[39mnp\u001b[38;5;241m.\u001b[39mmedian(imgs[\u001b[38;5;241m3\u001b[39m,:,:]\u001b[38;5;241m.\u001b[39mflatten())\n\u001b[1;32m      4\u001b[0m \u001b[38;5;66;03m# plt.imshow(np.flipud(np.transpose(img1)),vmin=0.8, vmax=1.5) #edit your vmin, vmax and cmap if you don't like greyscale colormap\u001b[39;00m\n\u001b[1;32m      5\u001b[0m \u001b[38;5;66;03m# plt.colorbar()\u001b[39;00m\n\u001b[1;32m      6\u001b[0m \u001b[38;5;66;03m# plt.show()\u001b[39;00m\n\u001b[1;32m      7\u001b[0m \u001b[38;5;66;03m# plt.imshow(np.flipud(np.transpose(img2)),vmin=0.8, vmax=1.5) #edit your vmin, vmax and cmap if you don't like greyscale colormap\u001b[39;00m\n\u001b[1;32m      8\u001b[0m \u001b[38;5;66;03m# plt.colorbar()\u001b[39;00m\n\u001b[1;32m      9\u001b[0m \u001b[38;5;66;03m# plt.show()\u001b[39;00m\n",
      "\u001b[0;31mNameError\u001b[0m: name 'imgs' is not defined"
     ]
    }
   ],
   "source": [
    "# normalizes the image values\n",
    "img1=imgs[0,:,:]/np.median(imgs[0,:,:].flatten())\n",
    "img2=imgs[3,:,:]/np.median(imgs[3,:,:].flatten())\n",
    "# plt.imshow(np.flipud(np.transpose(img1)),vmin=0.8, vmax=1.5) #edit your vmin, vmax and cmap if you don't like greyscale colormap\n",
    "# plt.colorbar()\n",
    "# plt.show()\n",
    "# plt.imshow(np.flipud(np.transpose(img2)),vmin=0.8, vmax=1.5) #edit your vmin, vmax and cmap if you don't like greyscale colormap\n",
    "# plt.colorbar()\n",
    "# plt.show()"
   ]
  },
  {
   "cell_type": "markdown",
   "id": "fe1ecfac-131e-4ce3-89b1-c2b2e1c6c3d7",
   "metadata": {},
   "source": [
    "### Filtre du déferlement"
   ]
  },
  {
   "cell_type": "code",
   "execution_count": 10,
   "id": "6bc62c37-4667-4aea-986e-b26d254f595b",
   "metadata": {},
   "outputs": [
    {
     "ename": "NameError",
     "evalue": "name 'img1' is not defined",
     "output_type": "error",
     "traceback": [
      "\u001b[0;31m---------------------------------------------------------------------------\u001b[0m",
      "\u001b[0;31mNameError\u001b[0m                                 Traceback (most recent call last)",
      "Cell \u001b[0;32mIn[10], line 1\u001b[0m\n\u001b[0;32m----> 1\u001b[0m gradient_sobel1 \u001b[38;5;241m=\u001b[39m sobel(\u001b[43mimg1\u001b[49m)\n\u001b[1;32m      2\u001b[0m gradient_sobel2\u001b[38;5;241m=\u001b[39msobel(img2)\n\u001b[1;32m      4\u001b[0m \u001b[38;5;66;03m# # Visualiser le gradient\u001b[39;00m\n\u001b[1;32m      5\u001b[0m \u001b[38;5;66;03m# plt.figure(figsize=(8, 4))\u001b[39;00m\n\u001b[1;32m      6\u001b[0m \u001b[38;5;66;03m# plt.imshow(gradient_sobel1, cmap=\"gray\", origin=\"upper\")\u001b[39;00m\n\u001b[0;32m   (...)\u001b[0m\n\u001b[1;32m     15\u001b[0m \u001b[38;5;66;03m# img_smoot2 = gaussian_filter(img2, sigma=1)\u001b[39;00m\n\u001b[1;32m     16\u001b[0m \u001b[38;5;66;03m# gradient_sobel2 = sobel(img_smoot2)\u001b[39;00m\n",
      "\u001b[0;31mNameError\u001b[0m: name 'img1' is not defined"
     ]
    }
   ],
   "source": [
    "gradient_sobel1 = sobel(img1)\n",
    "gradient_sobel2=sobel(img2)\n",
    "\n",
    "# # Visualiser le gradient\n",
    "# plt.figure(figsize=(8, 4))\n",
    "# plt.imshow(gradient_sobel1, cmap=\"gray\", origin=\"upper\")\n",
    "# plt.colorbar(label=\"Amplitude du gradient\")\n",
    "# plt.title(\"Détection des bords par gradient de Sobel\")\n",
    "# plt.show()\n",
    "\n",
    "# from scipy.ndimage import gaussian_filter\n",
    "\n",
    "# img_smooth = gaussian_filter(img1, sigma=1)\n",
    "# gradient_sobel1 = sobel(img_smooth)\n",
    "# img_smoot2 = gaussian_filter(img2, sigma=1)\n",
    "# gradient_sobel2 = sobel(img_smoot2)\n",
    "\n",
    "\n",
    "threshold = np.percentile(gradient_sobel1, 95)  # Définir un seuil automatique\n",
    "threshold2 = np.percentile(gradient_sobel2, 95)  # Définir un seuil automatique\n",
    "\n",
    "mask = gradient_sobel1 < threshold  # Garder les zones avec un faible gradient\n",
    "mask2 = gradient_sobel2 < threshold2  # Garder les zones avec un faible gradient\n",
    "\n",
    "# Appliquer le masque à l'image originale\n",
    "filtered_image1 = np.where(mask, img1, np.nan)  # Remplace les pixels masqués par NaN\n",
    "filtered_image2 = np.where(mask2, img2, np.nan)  # Remplace les pixels masqués par NaN\n",
    "\n",
    "# # Affichage du masque et de l'image filtrée\n",
    "# fig, axs = plt.subplots(1, 2, figsize=(12, 6))\n",
    "# axs[0].imshow(mask, cmap=\"gray\")\n",
    "# axs[0].set_title(\"Masque des zones valides\")\n",
    "# axs[1].imshow(filtered_image1, cmap=\"gray\")\n",
    "# axs[1].set_title(\"Image après filtrage des zones turbulentes\")\n",
    "# plt.show()"
   ]
  },
  {
   "cell_type": "code",
   "execution_count": 11,
   "id": "c274275b",
   "metadata": {
    "tags": []
   },
   "outputs": [
    {
     "ename": "NameError",
     "evalue": "name 'filtered_image1' is not defined",
     "output_type": "error",
     "traceback": [
      "\u001b[0;31m---------------------------------------------------------------------------\u001b[0m",
      "\u001b[0;31mNameError\u001b[0m                                 Traceback (most recent call last)",
      "Cell \u001b[0;32mIn[11], line 5\u001b[0m\n\u001b[1;32m      3\u001b[0m ntile\u001b[38;5;241m=\u001b[39m\u001b[38;5;241m16\u001b[39m \u001b[38;5;66;03m# le 10/01/25\u001b[39;00m\n\u001b[1;32m      4\u001b[0m \u001b[38;5;66;03m# ntile=8\u001b[39;00m\n\u001b[0;32m----> 5\u001b[0m (Eta,Etb,ang,angstd,coh,crosr,phases,kx2,ky2,dkx,dky)\u001b[38;5;241m=\u001b[39mFFT2D_two_arrays_nonan(\u001b[43mfiltered_image1\u001b[49m,filtered_image2,\u001b[38;5;241m10\u001b[39m,\u001b[38;5;241m10\u001b[39m,ntile,isplot\u001b[38;5;241m=\u001b[39m\u001b[38;5;241m0\u001b[39m)\n\u001b[1;32m      6\u001b[0m \u001b[38;5;28mprint\u001b[39m(np\u001b[38;5;241m.\u001b[39mshape(Eta))\n\u001b[1;32m      7\u001b[0m \u001b[38;5;28mprint\u001b[39m(np\u001b[38;5;241m.\u001b[39mshape(kx2))\n",
      "\u001b[0;31mNameError\u001b[0m: name 'filtered_image1' is not defined"
     ]
    }
   ],
   "source": [
    "#img2=img1[0:400,0:800]\n",
    "#(Eta,Eta_all,kx2,ky2,dkx,dky)=FFT2D_one_array(img1,10,10,16,isplot=0)\n",
    "ntile=16 # le 10/01/25\n",
    "# ntile=8\n",
    "(Eta,Etb,ang,angstd,coh,crosr,phases,kx2,ky2,dkx,dky)=FFT2D_two_arrays_nonan(filtered_image1,filtered_image2,10,10,ntile,isplot=0)\n",
    "print(np.shape(Eta))\n",
    "print(np.shape(kx2))\n",
    "print(np.shape(ky2))\n",
    "\n",
    "\n",
    "phiblind1=phitrig[0]+90.  # blind azimuth for first band\n",
    "phiblind2=phitrig[1]+90.  # blind azimuth for 3rd band\n",
    "phiblind3=phitrig[2]+90.  # blind azimuth for 3rd band\n",
    "kN=50\n",
    "xkblind=[-1.4*kN*np.sin(np.radians(phiblind2)) , 1.4*kN*np.sin(np.radians(phiblind2))]\n",
    "ykblind=[-1.4*kN*np.cos(np.radians(phiblind2)) , 1.4*kN*np.cos(np.radians(phiblind2))]\n",
    "\n",
    "\n",
    "X = np.arange(0,nx*dx,dx) # from 0 to (nx-1)*dx with a dx step\n",
    "Y = np.arange(0,ny*dy,dy)\n",
    "\n",
    "fig,axs=plt.subplots(1,2,figsize=(20,7))#,sharey=True,sharex=True)\n",
    "_=plt.gca().set_aspect('equal', adjustable='box')\n",
    "\n",
    "# warning: we use an array img1 that is written with X in the first (number 0) dimension and Y in the second\n",
    "#          but pcolormesh uses the opposite order: hence the use of transpose \n",
    "\n",
    "# im=axs[0].pcolormesh(X/1000,Y/1000,np.transpose(img1),cmap='seismic',norm = mcolors.Normalize(vmin=0.5, vmax=2))\n",
    "# _=plt.colorbar(im,ax=axs[0],label='S2 image band B04')\n",
    "# _=axs[0].set_xlabel('X [km]')\n",
    "# _=axs[0].set_ylabel('Y [km]')\n",
    "# _=axs[0].set_title('Surface')\n",
    "\n",
    "# im=axs[1].pcolormesh(kx2*1000,ky2*1000,10*np.log10((Eta)),norm = mcolors.Normalize(vmin=-30, vmax=20))\n",
    "# _=plt.colorbar(im,ax=axs[1],label='dB')\n",
    "# _=plt.plot(xkblind,ykblind,color='k',linestyle='--',linewidth=2)\n",
    "# _=axs[1].set_xlabel('k_x [cycles / km]')\n",
    "# _=axs[1].set_ylabel('k_y [cycles / km]')\n",
    "# _=axs[1].set_title('Spectrum')\n",
    "# _=plt.tight_layout()\n",
    "\n",
    "# print('variance 1:',np.var(img1.flatten()), 'sum of spectrum:',np.sum(Eta.flatten())*dkx*dky )\n",
    "# print('variance 2:',np.var(img2.flatten()), 'sum of spectrum:',np.sum(Etb.flatten())*dkx*dky )\n",
    "\n",
    "\n",
    "# fig,axs=plt.subplots(1,2,figsize=(20,7))#,sharey=True,sharex=True)\n",
    "# _=plt.gca().set_aspect('equal', adjustable='box')\n",
    "\n",
    "# im=axs[0].pcolormesh(kx2*1000,ky2*1000,coh,norm = mcolors.Normalize(vmin=0, vmax=1))\n",
    "# _=plt.colorbar(im,ax=axs[0],label=' ')\n",
    "# _=plt.plot(xkblind,ykblind,color='k',linestyle='--',linewidth=2)\n",
    "# _=axs[1].set_xlabel('k_x [cycles / km]')\n",
    "# _=axs[1].set_ylabel('k_y [cycles / km]')\n",
    "# _=axs[0].set_title('coherence B02-B04')\n",
    "\n",
    "# im=axs[1].pcolormesh(kx2*1000,ky2*1000,np.degrees(ang),cmap='seismic',norm = mcolors.Normalize(vmin=-180, vmax=180))\n",
    "# _=plt.colorbar(im,ax=axs[1],label='degrees')\n",
    "# _=plt.plot(xkblind,ykblind,color='k',linestyle='--',linewidth=2)\n",
    "# _=axs[1].set_xlabel('k_x [cycles / km]')\n",
    "# _=axs[1].set_ylabel('k_y [cycles / km]')\n",
    "# _=axs[1].set_title('cross-spectrum phase')\n",
    "# _=plt.tight_layout()\n",
    "\n",
    "# fig,axs=plt.subplots(1,2,figsize=(20,7))#,sharey=True,sharex=True)\n",
    "# _=plt.gca().set_aspect('equal', adjustable='box')\n",
    "\n",
    "# im=axs[0].pcolormesh(kx2*1000,ky2*1000,10*np.log10((crosr)),norm = mcolors.Normalize(vmin=-30, vmax=20))\n",
    "# _=plt.colorbar(im,ax=axs[0],label=' ')\n",
    "# _=plt.plot(xkblind,ykblind,color='k',linestyle='--',linewidth=2)\n",
    "# _=axs[1].set_xlabel('k_x [cycles / km]')\n",
    "# _=axs[1].set_ylabel('k_y [cycles / km]')\n",
    "# _=axs[0].set_title('real part of X-spec')\n",
    "\n",
    "# im=axs[1].pcolormesh(kx2*1000,ky2*1000,10*np.log10((Eta)),norm = mcolors.Normalize(vmin=-30, vmax=20))\n",
    "# _=plt.colorbar(im,ax=axs[1],label='dB')\n",
    "# _=plt.plot(xkblind,ykblind,color='k',linestyle='--',linewidth=2)\n",
    "# _=axs[1].set_xlabel('k_x [cycles / km]')\n",
    "# _=axs[1].set_ylabel('k_y [cycles / km]')\n",
    "# _=axs[1].set_title('Spectrum')\n",
    "# _=plt.tight_layout()\n"
   ]
  },
  {
   "cell_type": "code",
   "execution_count": 12,
   "id": "315da7d8-075c-4513-8113-934b271582da",
   "metadata": {
    "tags": []
   },
   "outputs": [],
   "source": [
    "# print(coh[34,14],coh[14,34])"
   ]
  },
  {
   "cell_type": "code",
   "execution_count": 13,
   "id": "307c822e",
   "metadata": {
    "tags": []
   },
   "outputs": [],
   "source": [
    "# ang[0,:]"
   ]
  },
  {
   "cell_type": "code",
   "execution_count": 14,
   "id": "d90620db",
   "metadata": {
    "tags": []
   },
   "outputs": [
    {
     "ename": "NameError",
     "evalue": "name 'kx2' is not defined",
     "output_type": "error",
     "traceback": [
      "\u001b[0;31m---------------------------------------------------------------------------\u001b[0m",
      "\u001b[0;31mNameError\u001b[0m                                 Traceback (most recent call last)",
      "Cell \u001b[0;32mIn[14], line 1\u001b[0m\n\u001b[0;32m----> 1\u001b[0m dir2a\u001b[38;5;241m=\u001b[39mnp\u001b[38;5;241m.\u001b[39mdegrees(np\u001b[38;5;241m.\u001b[39marctan2(\u001b[43mkx2\u001b[49m,ky2))\n\u001b[1;32m      2\u001b[0m kn\u001b[38;5;241m=\u001b[39mnp\u001b[38;5;241m.\u001b[39msqrt(kx2\u001b[38;5;241m*\u001b[39m\u001b[38;5;241m*\u001b[39m\u001b[38;5;241m2\u001b[39m\u001b[38;5;241m+\u001b[39mky2\u001b[38;5;241m*\u001b[39m\u001b[38;5;241m*\u001b[39m\u001b[38;5;241m2\u001b[39m)\u001b[38;5;241m*\u001b[39m(\u001b[38;5;241m2\u001b[39m\u001b[38;5;241m*\u001b[39mnp\u001b[38;5;241m.\u001b[39mpi)\u001b[38;5;241m+\u001b[39m\u001b[38;5;241m1E-20\u001b[39m \u001b[38;5;66;03m#Jusque là les dimmensions sont ok avec Matlab\u001b[39;00m\n\u001b[1;32m      3\u001b[0m kncpk\u001b[38;5;241m=\u001b[39mkn\u001b[38;5;241m/\u001b[39m(\u001b[38;5;241m2\u001b[39m\u001b[38;5;241m*\u001b[39mnp\u001b[38;5;241m.\u001b[39mpi)\u001b[38;5;241m*\u001b[39m\u001b[38;5;241m1000\u001b[39m\n",
      "\u001b[0;31mNameError\u001b[0m: name 'kx2' is not defined"
     ]
    }
   ],
   "source": [
    "dir2a=np.degrees(np.arctan2(kx2,ky2))\n",
    "kn=np.sqrt(kx2**2+ky2**2)*(2*np.pi)+1E-20 #Jusque là les dimmensions sont ok avec Matlab\n",
    "kncpk=kn/(2*np.pi)*1000\n",
    "\n",
    "# # Let's now divide by MTF ... \n",
    "# # \n",
    "# print('G values:',G4,G8,np.shape(dir2a-phiblind2))\n",
    "# MTF=1/(G4*kn*np.sin(np.radians(dir2a-phiblind2)))**2\n",
    "# J2=np.where((coh < 0.01) | (MTF > 300) )\n",
    "# MTF[J2]=0\n",
    "# Etb=Eta\n",
    "# Etb[J2]=0\n",
    "# Ek=crosr*MTF\n",
    "\n",
    "# fig,axs=plt.subplots(1,2,figsize=(20,7))#,sharey=True,sharex=True)\n",
    "# _=plt.gca().set_aspect('equal', adjustable='box')\n",
    "\n",
    "# # warning: we use an array img1 that is written with X in the first (number 0) dimension and Y in the second\n",
    "# #          but pcolormesh uses the opposite order: hence the use of transpose \n",
    "\n",
    "# im=axs[0].pcolormesh(kx2*1000,ky2*1000,10*np.log10((MTF)),norm = mcolors.Normalize(vmin=-200, vmax=30))\n",
    "# _=plt.colorbar(im,ax=axs[0],label='MTF (dB)')\n",
    "# _=axs[1].set_xlabel('k_x [cycles / km]')\n",
    "# _=axs[1].set_ylabel('k_y [cycles / km]')\n",
    "# _=axs[0].set_title('MTF')\n",
    "\n",
    "# im=axs[1].pcolormesh(kx2*1000,ky2*1000,10*np.log10((Ek)),norm = mcolors.Normalize(vmin=-20, vmax=40))\n",
    "# _=plt.colorbar(im,ax=axs[1],label='dB')\n",
    "# _=plt.plot(xkblind,ykblind,color='k',linestyle='--',linewidth=2)\n",
    "# _=axs[1].set_xlabel('k_x [cycles / km]')\n",
    "# _=axs[1].set_ylabel('k_y [cycles / km]')\n",
    "# _=axs[1].set_xlim([-10,10])\n",
    "# _=axs[1].set_ylim([-10,10])\n",
    "# _=axs[1].set_title('Spectrum')\n",
    "# _=plt.tight_layout()\n",
    "\n",
    "# varB=np.sum(Etb.flatten())*dkx*dky\n",
    "# sumE=np.sum(Ek.flatten())*dkx*dky\n",
    "\n",
    "\n",
    "# print('sum of spectrum:',sumE,sqrt(sumE), 4*sqrt(sumE) )\n",
    "# print(np.degrees(ang))\n"
   ]
  },
  {
   "cell_type": "code",
   "execution_count": 15,
   "id": "3ff345af",
   "metadata": {
    "tags": []
   },
   "outputs": [],
   "source": [
    "\n",
    "# print('dir2a:',np.shape(dir2a))\n",
    "# print('kn:', np.shape(kn),max(kn.flatten()))"
   ]
  },
  {
   "cell_type": "code",
   "execution_count": 16,
   "id": "04d0c399",
   "metadata": {
    "scrolled": true,
    "tags": []
   },
   "outputs": [
    {
     "ename": "NameError",
     "evalue": "name 'kx2' is not defined",
     "output_type": "error",
     "traceback": [
      "\u001b[0;31m---------------------------------------------------------------------------\u001b[0m",
      "\u001b[0;31mNameError\u001b[0m                                 Traceback (most recent call last)",
      "Cell \u001b[0;32mIn[16], line 1\u001b[0m\n\u001b[0;32m----> 1\u001b[0m dir2a\u001b[38;5;241m=\u001b[39mnp\u001b[38;5;241m.\u001b[39mdegrees(np\u001b[38;5;241m.\u001b[39marctan2(\u001b[43mkx2\u001b[49m,ky2))\n\u001b[1;32m      2\u001b[0m kn\u001b[38;5;241m=\u001b[39mnp\u001b[38;5;241m.\u001b[39msqrt(kx2\u001b[38;5;241m*\u001b[39m\u001b[38;5;241m*\u001b[39m\u001b[38;5;241m2\u001b[39m\u001b[38;5;241m+\u001b[39mky2\u001b[38;5;241m*\u001b[39m\u001b[38;5;241m*\u001b[39m\u001b[38;5;241m2\u001b[39m)\u001b[38;5;241m*\u001b[39m(\u001b[38;5;241m2\u001b[39m\u001b[38;5;241m*\u001b[39mnp\u001b[38;5;241m.\u001b[39mpi)\u001b[38;5;241m+\u001b[39m\u001b[38;5;241m1E-20\u001b[39m\n\u001b[1;32m      4\u001b[0m \u001b[38;5;66;03m# dirC1=-50\u001b[39;00m\n\u001b[1;32m      5\u001b[0m \u001b[38;5;66;03m# dirC2=-40\u001b[39;00m\n\u001b[1;32m      6\u001b[0m \n\u001b[0;32m   (...)\u001b[0m\n\u001b[1;32m     12\u001b[0m \u001b[38;5;66;03m# dirC1=-40\u001b[39;00m\n\u001b[1;32m     13\u001b[0m \u001b[38;5;66;03m# dirC2=-30\u001b[39;00m\n",
      "\u001b[0;31mNameError\u001b[0m: name 'kx2' is not defined"
     ]
    }
   ],
   "source": [
    "dir2a=np.degrees(np.arctan2(kx2,ky2))\n",
    "kn=np.sqrt(kx2**2+ky2**2)*(2*np.pi)+1E-20\n",
    "\n",
    "# dirC1=-50\n",
    "# dirC2=-40\n",
    "\n",
    "# dirC1=130\n",
    "# dirC2=140\n",
    "# dirC1=-160\n",
    "# dirC2=-150\n",
    "\n",
    "# dirC1=-40\n",
    "# dirC2=-30\n",
    "dirC1=-100\n",
    "dirC2=-90\n",
    "\n",
    "dt=float(dt1[0])\n",
    "# dt=dt1\n",
    "J =np.where((coh > 0.01) & (dir2a < dirC2) & (dir2a > dirC1) & (np.degrees(angstd)  < 60) )\n",
    "J2=np.where((coh > 0.01) & (dir2a < dirC2) & (dir2a > dirC1) )\n",
    "dispt=np.sqrt(9.81/kn)\n",
    "Cimg=ang/kn/dt\n",
    "Cstd=angstd/kn/abs(dt)\n",
    "\n",
    "# plt.plot(kn[J2]/(2*pi)*1000,dispt[J2],'kx',linewidth=3,label='Airy theory') \n",
    "# plt.plot(kn[J2]/(2*pi)*1000,-Cimg[J2],'ro',linewidth=1,label='from S2 phase')\n",
    "# plt.plot(kn[J]/(2*pi)*1000,-Cimg[J],'bo',linewidth=1,label='from image X-spectra') \n",
    "# plt.grid(True)\n",
    "# plt.xlabel('k (cycles / km)')\n",
    "# plt.ylabel('phase speed (m/s)')\n",
    "# plt.legend()"
   ]
  },
  {
   "cell_type": "code",
   "execution_count": 17,
   "id": "fa394a1b",
   "metadata": {},
   "outputs": [],
   "source": [
    "# print('type(ang)=',type(ang))\n",
    "# print('type(kn)=',type(kn))\n",
    "# print('type(dt)=',type(dt))\n"
   ]
  },
  {
   "cell_type": "code",
   "execution_count": 18,
   "id": "96d65c49",
   "metadata": {
    "tags": []
   },
   "outputs": [],
   "source": [
    "# plt.errorbar(kn[J2]/(2*np.pi)*1000,-Cimg[J2],yerr=Cstd[J2]/16,fmt='.r',capsize=5,label='from S2 phase')\n",
    "# plt.errorbar(kn[J]/(2*np.pi)*1000,-Cimg[J],yerr=Cstd[J]/16,fmt='.b',capsize=5,label='from image X-spectra')\n",
    "# plt.plot(kn[J2]/(2*np.pi)*1000,dispt[J2],'kx',linewidth=3,label='Airy theory') \n",
    "# plt.grid(True)\n",
    "# plt.axis([8,50,4,14])\n",
    "# plt.xlabel('k (cycles / km)')\n",
    "# plt.ylabel('phase speed (m/s)')\n",
    "# plt.legend()\n",
    "# plt.show()"
   ]
  },
  {
   "cell_type": "code",
   "execution_count": 19,
   "id": "a8f0d76a",
   "metadata": {
    "tags": []
   },
   "outputs": [],
   "source": [
    "##PLot current velocity\n",
    "# Cimg1=Cimg[J]\n",
    "# Cimg2=Cimg[J2]\n",
    "# plt.clf()\n",
    "# plt.grid(True)\n",
    "# plt.errorbar(kn[J2]/(2*np.pi)*1000,-Cimg2,yerr=Cstd[J2]/16,fmt='.r',capsize=5,label='from S2 phase')\n",
    "# plt.errorbar(kn[J]/(2*np.pi)*1000,-Cimg1,yerr=Cstd[J]/16,fmt='.b',capsize=5,label='from image X-spectra')\n",
    "# plt.plot(kn[J2]/(2*np.pi)*1000,dispt[J2],'kx',linewidth=3,label='Airy theory')\n",
    "# plt.axis([8, 50, -1.2, 1.2])\n",
    "# plt.xticks(np.linspace(0,50,6))\n",
    "# plt.rcParams['font.size']=14\n",
    "# plt.legend()\n",
    "# plt.show()"
   ]
  },
  {
   "cell_type": "code",
   "execution_count": 20,
   "id": "5c1f06b8",
   "metadata": {
    "editable": true,
    "slideshow": {
     "slide_type": ""
    },
    "tags": []
   },
   "outputs": [
    {
     "ename": "NameError",
     "evalue": "name 'dt' is not defined",
     "output_type": "error",
     "traceback": [
      "\u001b[0;31m---------------------------------------------------------------------------\u001b[0m",
      "\u001b[0;31mNameError\u001b[0m                                 Traceback (most recent call last)",
      "Cell \u001b[0;32mIn[20], line 2\u001b[0m\n\u001b[1;32m      1\u001b[0m d2r\u001b[38;5;241m=\u001b[39mnp\u001b[38;5;241m.\u001b[39mpi\u001b[38;5;241m/\u001b[39m\u001b[38;5;241m180\u001b[39m\n\u001b[0;32m----> 2\u001b[0m phase_o \u001b[38;5;241m=\u001b[39m \u001b[38;5;28mabs\u001b[39m(\u001b[43mdt\u001b[49m) \u001b[38;5;241m*\u001b[39m np\u001b[38;5;241m.\u001b[39msqrt(\u001b[38;5;241m9.81\u001b[39m \u001b[38;5;241m*\u001b[39m kn)  \u001b[38;5;66;03m# phase from linear theory (deep water)\u001b[39;00m\n\u001b[1;32m      3\u001b[0m phase_diff\u001b[38;5;241m=\u001b[39mang\u001b[38;5;241m-\u001b[39mphase_o\u001b[38;5;241m*\u001b[39mnp\u001b[38;5;241m.\u001b[39msign(ang)\u001b[38;5;66;03m# phase_diff should be equal to kx.Ux + ky.Uy ...\u001b[39;00m\n\u001b[1;32m      5\u001b[0m \u001b[38;5;66;03m# FA modifications for later  : manages the possible sign flip : uses the +phase or -phase ... \u001b[39;00m\n\u001b[1;32m      6\u001b[0m \u001b[38;5;66;03m# Better trick from Nicolas: work with complex numbers and divide the complex phase by exp(-i*omega*t)  ... \u001b[39;00m\n",
      "\u001b[0;31mNameError\u001b[0m: name 'dt' is not defined"
     ]
    }
   ],
   "source": [
    "d2r=np.pi/180\n",
    "phase_o = abs(dt) * np.sqrt(9.81 * kn)  # phase from linear theory (deep water)\n",
    "phase_diff=ang-phase_o*np.sign(ang)# phase_diff should be equal to kx.Ux + ky.Uy ...\n",
    "\n",
    "# FA modifications for later  : manages the possible sign flip : uses the +phase or -phase ... \n",
    "# Better trick from Nicolas: work with complex numbers and divide the complex phase by exp(-i*omega*t)  ... \n",
    "\n",
    "Clin=np.sqrt(9.81/kn)\n",
    "philinp= (Clin*kn*dt+pi)%(2*np.pi)-np.pi   # % is the mod operator: np.remainder \n",
    "philinm= (-Clin*kn*dt+pi)%(2*pi)-np.pi\n",
    "Cimg0=(ang-philinm)/kn/dt;\n",
    "Cimg2=(ang-philinp)/kn/dt;\n",
    "signchoice=np.where(abs(Cimg2) < abs(Cimg0));\n",
    "Cimg0[signchoice]=Cimg2[signchoice];\n",
    "Cimgp=Cimg0;\n",
    "kfac=1000/(2*np.pi)\n",
    "J3=np.where( (coh < 0.64) | (kn < 10/kfac) ) #; % | dir2a < 0); % | dir2a > 90);\n",
    "Cimgp[J3]=numpy.nan;\n",
    "\n",
    "# Cimgp is kx*U+ky*V \n",
    "\n",
    "# # Calcul de la phase à partir de la théorie linéaire (eaux profondes)\n",
    "# phase_o = abs(dt) * np.sqrt(9.81 * kn)\n",
    "\n",
    "# # Calcul des vitesses de phase\n",
    "# Clin = np.sqrt(9.81 / kn)\n",
    "\n",
    "# # Phases linéaires modifiées\n",
    "# philinp = (Clin * kn * dt + np.pi) % (2 * np.pi) - np.pi\n",
    "# philinm = (-Clin * kn * dt + np.pi) % (2 * np.pi) - np.pi\n",
    "\n",
    "# # Calcul des Cimg0 et Cimg2\n",
    "# Cimg0 = (ang - philinm) / (kn * dt)\n",
    "# Cimg2 = (ang - philinp) / (kn * dt)\n",
    "\n",
    "# # Choix du signe basé sur la plus petite valeur absolue\n",
    "# signchoice = np.where(np.abs(Cimg2) < np.abs(Cimg0))\n",
    "# Cimg0[signchoice] = Cimg2[signchoice]\n",
    "\n",
    "# # Résultat de Cimg\n",
    "# Cimgp = Cimg0\n",
    "\n",
    "# # Facteur de conversion\n",
    "# kfac = 1000 / (2 * np.pi)\n",
    "\n",
    "# # Conditions pour définir les valeurs de Cimgp à NaN\n",
    "# J3 = np.where((coh < 0.64) | (kn < 10 / kfac))\n",
    "# Cimgp[J3] = np.nan\n",
    "\n",
    "# # Utilisation de nombres complexes pour diviser la phase par exp(-i * omega * t)\n",
    "# omega = np.sqrt(9.81 * kn)  # fréquence angulaire\n",
    "# t = dt  # temps considéré\n",
    "\n",
    "# # Phase complexe initiale (exemple)\n",
    "# phase_complex_initiale = np.exp(1j * ang)\n",
    "\n",
    "# # Phase complexe divisée par exp(-1j * omega * t)\n",
    "# phase_complex_modifiee = phase_complex_initiale / np.exp(-1j * omega * t)\n",
    "\n",
    "# # Résultat final\n",
    "# phase_modifiee = np.angle(phase_complex_modifiee)\n",
    "\n",
    "# # Utilisation de phase_modifiee dans le calcul de phase_diff\n",
    "# phase_diff = ang - phase_modifiee * np.sign(ang)\n",
    "\n",
    "\n",
    "\n",
    "# k_min_fit = 15 # in cpk\n",
    "# 17/05/2024\n",
    "k_min_fit=15  #in cpk\n",
    "\n",
    "# k_max_fit = 35 # in cpk\n",
    "# 21/05/2024\n",
    "k_max_fit=35 # in cpk\n",
    "std_max = 60*d2r\n",
    "# id_fit = np.where((angstd / d2r < std_max) & (kncpk >= k_min_fit) & (kncpk <= k_max_fit))  # & phase > 0\n",
    "\n",
    "# id_fit = np.where((angstd.flatten()  < std_max)  & (kncpk.flatten() >= k_min_fit) & (kncpk.flatten() <= k_max_fit) & (coh.flatten()>=0.6))[0]  # & phase > 0\n",
    "id_fit = np.where((angstd.flatten()  < std_max)  & (kncpk.flatten() >= k_min_fit) & (kncpk.flatten() <= k_max_fit))[0]  # & phase > 0\n",
    "\n",
    "# id_fit = np.where((angstd / d2r < std_max) & (kncpk >= k_min_fit) & (kncpk <= k_max_fit))[0]  # & phase > 0\n",
    "angstd1=angstd.flatten()\n",
    "phase_diff1=phase_diff.flatten()\n",
    "weight = ntile**2 / (angstd1[id_fit] ** 2)/dt**2\n",
    "kx1=kx2.flatten()\n",
    "ky1=ky2.flatten()\n",
    "K_x_fit = kx1[id_fit]\n",
    "K_y_fit = ky1[id_fit]\n",
    "Y = phase_diff1[id_fit] / dt\n",
    "C=np.diag(weight)\n",
    "A=(np.column_stack((K_x_fit ,K_y_fit)))*(2*np.pi)  # these are now in rad / m \n",
    "\n",
    "# X=np.linalg.lstsq(A, Y, rcond='warn')\n",
    "# print('U and V components of current :',X[0])\n",
    "\n",
    "# Pondération \n",
    "\n",
    "ATC=np.matmul(A.T,C)\n",
    "D=np.matmul(ATC,A)\n",
    "#print('A:',A)\n",
    "DI=np.linalg.inv(D)\n",
    "X=np.matmul(DI,np.matmul(ATC,Y))\n",
    "print('U and V components of current :',X)\n",
    "\n",
    "\n",
    "sigU=np.sqrt(abs(DI))\n",
    "print('uncertainties for U and V:',sigU[0,0],sigU[1,1])\n",
    "\n",
    "# X1=np.linalg.lstsq(A2[0,:,:],Y,rcond=None)[0]\n",
    "# X2=np.linalg.lstsq(A2[1,:,:],Y,rcond=None)[0]\n",
    "\n",
    "\n",
    "\n",
    "fig = plt.figure(figsize=(12,8))\n",
    "ax = fig.add_subplot(111)\n",
    "ax.scatter(K_x_fit, K_y_fit)\n",
    "ax.set_title('selected spectral components for fit')\n",
    "#ax = fig.add_subplot(111, projection='3d')\n",
    "#ax.scatter(K_x_fit, K_y_fit, Y)\n",
    "\n",
    "\n"
   ]
  },
  {
   "cell_type": "code",
   "execution_count": null,
   "id": "a2c352da-656a-473d-b35a-74059cdfbad0",
   "metadata": {},
   "outputs": [],
   "source": []
  },
  {
   "cell_type": "code",
   "execution_count": null,
   "id": "b67a4564-3907-4d30-9374-9dd4ddecb81a",
   "metadata": {
    "editable": true,
    "slideshow": {
     "slide_type": ""
    },
    "tags": []
   },
   "outputs": [],
   "source": []
  },
  {
   "cell_type": "code",
   "execution_count": null,
   "id": "4329f8ff-7a23-49cc-8379-603ced306c52",
   "metadata": {},
   "outputs": [],
   "source": []
  },
  {
   "cell_type": "code",
   "execution_count": null,
   "id": "61d623b0-48a7-4d93-b45e-fdf87798bc5a",
   "metadata": {},
   "outputs": [],
   "source": []
  }
 ],
 "metadata": {
  "kernelspec": {
   "display_name": "Python 3 (ipykernel)",
   "language": "python",
   "name": "python3"
  },
  "language_info": {
   "codemirror_mode": {
    "name": "ipython",
    "version": 3
   },
   "file_extension": ".py",
   "mimetype": "text/x-python",
   "name": "python",
   "nbconvert_exporter": "python",
   "pygments_lexer": "ipython3",
   "version": "3.12.7"
  }
 },
 "nbformat": 4,
 "nbformat_minor": 5
}
