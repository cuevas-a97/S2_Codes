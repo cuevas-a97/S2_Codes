{
 "cells": [
  {
   "cell_type": "markdown",
   "id": "48e0e461-0e9b-49c6-9e27-126c4a3f2e7a",
   "metadata": {},
   "source": [
    "# Packages "
   ]
  },
  {
   "cell_type": "code",
   "execution_count": 1,
   "id": "e0439500",
   "metadata": {
    "tags": []
   },
   "outputs": [],
   "source": [
    "import matplotlib as mp\n",
    "import matplotlib.pyplot as plt\n",
    "import matplotlib.colors as mcolors\n",
    "import glob\n",
    "import sys\n",
    "import os\n",
    "from scipy.interpolate import interpolate\n",
    "from scipy.interpolate import RectBivariateSpline\n",
    "from scipy.interpolate import griddata\n",
    "from skimage.filters import sobel\n",
    "from spectral_analysis_functions import *\n",
    "import numpy as np\n",
    "from S2_read import *\n",
    "from s2_angs import *\n",
    "# bands=['B04','B08','B03','B02'];  \n",
    "\n"
   ]
  },
  {
   "cell_type": "markdown",
   "id": "5869764a-04d2-4027-89bf-a9386314d731",
   "metadata": {},
   "source": [
    "# Image Reading"
   ]
  },
  {
   "cell_type": "code",
   "execution_count": 2,
   "id": "b86ff995",
   "metadata": {
    "scrolled": true,
    "tags": []
   },
   "outputs": [
    {
     "ename": "NameError",
     "evalue": "name 'S2path' is not defined",
     "output_type": "error",
     "traceback": [
      "\u001b[0;31m---------------------------------------------------------------------------\u001b[0m",
      "\u001b[0;31mNameError\u001b[0m                                 Traceback (most recent call last)",
      "Cell \u001b[0;32mIn[2], line 1\u001b[0m\n\u001b[0;32m----> 1\u001b[0m XML_File \u001b[38;5;241m=\u001b[39m find(\u001b[38;5;124m'\u001b[39m\u001b[38;5;124mMTD_TL.xml\u001b[39m\u001b[38;5;124m'\u001b[39m, \u001b[43mS2path\u001b[49m)\n\u001b[1;32m      2\u001b[0m XML_File_DS\u001b[38;5;241m=\u001b[39mfind(\u001b[38;5;124m'\u001b[39m\u001b[38;5;124mMTD_DS.xml\u001b[39m\u001b[38;5;124m'\u001b[39m,S2path)\n\u001b[1;32m      3\u001b[0m \u001b[38;5;28;01mif\u001b[39;00m XML_File \u001b[38;5;129;01mis\u001b[39;00m \u001b[38;5;28;01mNone\u001b[39;00m:\n",
      "\u001b[0;31mNameError\u001b[0m: name 'S2path' is not defined"
     ]
    }
   ],
   "source": [
    "XML_File = find('MTD_TL.xml', S2path)\n",
    "XML_File_DS=find('MTD_DS.xml',S2path)\n",
    "if XML_File is None:\n",
    "    print(\"Le fichier 'MTD_TL.xml' n'a pas été trouvé dans le répertoire spécifié:\", S2path)\n",
    "[imgs,NX,NY,nx,ny,dx,dy,offspec,phitrig,thetav,loncenter,latcenter,detector,indexX,indexY]=S2_read(S2path,boxi,bands)\n",
    "\n",
    "        "
   ]
  },
  {
   "cell_type": "markdown",
   "id": "75bc7456-4900-46d0-af4f-737a8209ddb7",
   "metadata": {},
   "source": [
    "## image based on detectors\n",
    "\n",
    "IndexX et indexY: pixels; \n",
    "array1: image as a function of detectors"
   ]
  },
  {
   "cell_type": "code",
   "execution_count": null,
   "id": "5686c52d",
   "metadata": {
    "tags": []
   },
   "outputs": [],
   "source": [
    "print('lon,lat:',np.degrees(loncenter),np.degrees(latcenter))\n",
    "\n",
    "nb=np.shape(bands)[0]\n",
    "\n",
    "\n",
    "array1=np.squeeze(detector[1,:,:])\n",
    "fig, ax = plt.subplots() \n",
    "im=ax.pcolor(indexX,indexY,array1)\n",
    "fig.colorbar(im)\n",
    "ax.set_title('detector index and FFT box location')\n",
    "ax.set_xlabel('pixel index')\n",
    "ax.set_ylabel('pixel index')\n",
    "ax.axis('equal')\n",
    "rect = mp.patches.Rectangle((boxi[0], boxi[2]), boxi[1]-boxi[0], boxi[3]-boxi[2], linewidth=2,\n",
    "                         edgecolor='k', facecolor=\"none\")\n",
    "\n",
    "ax.add_patch(rect)\n",
    "plt.show()"
   ]
  },
  {
   "cell_type": "code",
   "execution_count": null,
   "id": "e182e3d0",
   "metadata": {},
   "outputs": [],
   "source": [
    "\n",
    "loncenter=loncenter*180/(math.pi)\n",
    "latcenter=latcenter*180/(math.pi)\n"
   ]
  },
  {
   "cell_type": "markdown",
   "id": "92918ff3-c153-4dfa-8c50-1fe8fb5704b5",
   "metadata": {},
   "source": [
    "## Identifying the detector"
   ]
  },
  {
   "cell_type": "code",
   "execution_count": 3,
   "id": "c81ff9d1",
   "metadata": {},
   "outputs": [
    {
     "ename": "NameError",
     "evalue": "name 'boxi' is not defined",
     "output_type": "error",
     "traceback": [
      "\u001b[0;31m---------------------------------------------------------------------------\u001b[0m",
      "\u001b[0;31mNameError\u001b[0m                                 Traceback (most recent call last)",
      "Cell \u001b[0;32mIn[3], line 7\u001b[0m\n\u001b[1;32m      4\u001b[0m     centrey\u001b[38;5;241m=\u001b[39my0\u001b[38;5;241m+\u001b[39mtaille_boite\u001b[38;5;241m/\u001b[39m\u001b[38;5;241m2\u001b[39m\n\u001b[1;32m      5\u001b[0m     \u001b[38;5;28;01mreturn\u001b[39;00m centrex, centrey\n\u001b[0;32m----> 7\u001b[0m x0\u001b[38;5;241m=\u001b[39m\u001b[43mboxi\u001b[49m[\u001b[38;5;241m0\u001b[39m]\n\u001b[1;32m      8\u001b[0m y0\u001b[38;5;241m=\u001b[39mboxi[\u001b[38;5;241m2\u001b[39m]\n\u001b[1;32m      9\u001b[0m cote\u001b[38;5;241m=\u001b[39mboxi[\u001b[38;5;241m1\u001b[39m]\u001b[38;5;241m-\u001b[39mboxi[\u001b[38;5;241m0\u001b[39m]\n",
      "\u001b[0;31mNameError\u001b[0m: name 'boxi' is not defined"
     ]
    }
   ],
   "source": [
    "# On determine le centre de la boîte en pixel\n",
    "def centre_carre(x0,xy0,taille_boite):\n",
    "    centrex=x0+taille_boite/2\n",
    "    centrey=y0+taille_boite/2\n",
    "    return centrex, centrey\n",
    "\n",
    "x0=boxi[0]\n",
    "y0=boxi[2]\n",
    "cote=boxi[1]-boxi[0]\n",
    "centre=centre_carre(x0,y0,cote)"
   ]
  },
  {
   "cell_type": "code",
   "execution_count": 4,
   "id": "b654e794",
   "metadata": {},
   "outputs": [
    {
     "ename": "NameError",
     "evalue": "name 'indexX' is not defined",
     "output_type": "error",
     "traceback": [
      "\u001b[0;31m---------------------------------------------------------------------------\u001b[0m",
      "\u001b[0;31mNameError\u001b[0m                                 Traceback (most recent call last)",
      "Cell \u001b[0;32mIn[4], line 2\u001b[0m\n\u001b[1;32m      1\u001b[0m \u001b[38;5;66;03m# print('indexX',indexX)\u001b[39;00m\n\u001b[0;32m----> 2\u001b[0m indexX2, indexY2 \u001b[38;5;241m=\u001b[39m np\u001b[38;5;241m.\u001b[39mmeshgrid(\u001b[43mindexX\u001b[49m, indexY)\n\u001b[1;32m      3\u001b[0m \u001b[38;5;28mprint\u001b[39m(\u001b[38;5;124m'\u001b[39m\u001b[38;5;124mshape indexX\u001b[39m\u001b[38;5;124m'\u001b[39m,np\u001b[38;5;241m.\u001b[39mshape(indexX))\n\u001b[1;32m      4\u001b[0m \u001b[38;5;28mprint\u001b[39m(\u001b[38;5;124m'\u001b[39m\u001b[38;5;124mshape indexY\u001b[39m\u001b[38;5;124m'\u001b[39m,np\u001b[38;5;241m.\u001b[39mshape(indexY))\n",
      "\u001b[0;31mNameError\u001b[0m: name 'indexX' is not defined"
     ]
    }
   ],
   "source": [
    "# print('indexX',indexX)\n",
    "indexX2, indexY2 = np.meshgrid(indexX, indexY)\n",
    "print('shape indexX',np.shape(indexX))\n",
    "print('shape indexY',np.shape(indexY))\n",
    "print('shape array1',np.shape(array1))\n",
    "\n",
    "points = np.column_stack((indexX.ravel(), indexY.ravel()))\n",
    "values = array1.ravel()\n",
    "value = griddata(points, values, centre, method='linear')\n",
    "value = value.item() \n",
    "\n",
    "print(value)"
   ]
  },
  {
   "cell_type": "markdown",
   "id": "1e4af7ed-041e-4332-a177-414b0e3f7ae2",
   "metadata": {},
   "source": [
    "### dictionary of detector numbers"
   ]
  },
  {
   "cell_type": "code",
   "execution_count": 5,
   "id": "0ed66fff",
   "metadata": {},
   "outputs": [
    {
     "ename": "NameError",
     "evalue": "name 'value' is not defined",
     "output_type": "error",
     "traceback": [
      "\u001b[0;31m---------------------------------------------------------------------------\u001b[0m",
      "\u001b[0;31mNameError\u001b[0m                                 Traceback (most recent call last)",
      "Cell \u001b[0;32mIn[5], line 15\u001b[0m\n\u001b[1;32m      1\u001b[0m mapping \u001b[38;5;241m=\u001b[39m {\n\u001b[1;32m      2\u001b[0m     \u001b[38;5;241m1\u001b[39m: \u001b[38;5;124m'\u001b[39m\u001b[38;5;124mD01\u001b[39m\u001b[38;5;124m'\u001b[39m,\n\u001b[1;32m      3\u001b[0m     \u001b[38;5;241m2\u001b[39m: \u001b[38;5;124m'\u001b[39m\u001b[38;5;124mD02\u001b[39m\u001b[38;5;124m'\u001b[39m,\n\u001b[0;32m   (...)\u001b[0m\n\u001b[1;32m     13\u001b[0m     \u001b[38;5;241m12\u001b[39m: \u001b[38;5;124m'\u001b[39m\u001b[38;5;124mD12\u001b[39m\u001b[38;5;124m'\u001b[39m\n\u001b[1;32m     14\u001b[0m }\n\u001b[0;32m---> 15\u001b[0m \u001b[38;5;28;01mif\u001b[39;00m \u001b[38;5;28mround\u001b[39m(\u001b[43mvalue\u001b[49m) \u001b[38;5;129;01min\u001b[39;00m mapping:\n\u001b[1;32m     16\u001b[0m     Det \u001b[38;5;241m=\u001b[39m mapping[\u001b[38;5;28mround\u001b[39m(value)]\n\u001b[1;32m     17\u001b[0m \u001b[38;5;28;01melse\u001b[39;00m:\n\u001b[1;32m     18\u001b[0m     \u001b[38;5;66;03m# Si la valeur arrondie n'est pas dans le dictionnaire, attribuez une valeur par défaut ou gérez l'erreur selon votre cas d'utilisation\u001b[39;00m\n",
      "\u001b[0;31mNameError\u001b[0m: name 'value' is not defined"
     ]
    }
   ],
   "source": [
    "mapping = {\n",
    "    1: 'D01',\n",
    "    2: 'D02',\n",
    "    3: 'D03',\n",
    "    4: 'D04',\n",
    "    5: 'D05',\n",
    "    6: 'D06',\n",
    "    7: 'D07',\n",
    "    8: 'D08',\n",
    "    9: 'D09',\n",
    "    10: 'D10',\n",
    "    11: 'D11',\n",
    "    12: 'D12'\n",
    "}\n",
    "if round(value) in mapping:\n",
    "    Det = mapping[round(value)]\n",
    "else:\n",
    "    # If the rounded value is not in the dictionary, assign a default value or handle the error according to your use case\n",
    "    Det = \"Valeur non trouvée\"\n",
    "print(Det)\n",
    "\n",
    "detector_find=int(value)"
   ]
  },
  {
   "cell_type": "markdown",
   "id": "b9280feb-7cf7-48dc-acb1-28210ba3d32c",
   "metadata": {},
   "source": [
    "### define the xml path and then use renaud's code"
   ]
  },
  {
   "cell_type": "code",
   "execution_count": 6,
   "id": "8b83466b",
   "metadata": {},
   "outputs": [
    {
     "ename": "NameError",
     "evalue": "name 'S2path' is not defined",
     "output_type": "error",
     "traceback": [
      "\u001b[0;31m---------------------------------------------------------------------------\u001b[0m",
      "\u001b[0;31mNameError\u001b[0m                                 Traceback (most recent call last)",
      "Cell \u001b[0;32mIn[6], line 1\u001b[0m\n\u001b[0;32m----> 1\u001b[0m datastrip_dir \u001b[38;5;241m=\u001b[39m os\u001b[38;5;241m.\u001b[39mpath\u001b[38;5;241m.\u001b[39mjoin(\u001b[43mS2path\u001b[49m, \u001b[38;5;124m\"\u001b[39m\u001b[38;5;124mDATASTRIP\u001b[39m\u001b[38;5;124m\"\u001b[39m)\n\u001b[1;32m      3\u001b[0m \u001b[38;5;66;03m# Liste des éléments dans le répertoire DATASTRIP\u001b[39;00m\n\u001b[1;32m      4\u001b[0m datastrip_contents \u001b[38;5;241m=\u001b[39m os\u001b[38;5;241m.\u001b[39mlistdir(datastrip_dir)\n",
      "\u001b[0;31mNameError\u001b[0m: name 'S2path' is not defined"
     ]
    }
   ],
   "source": [
    "datastrip_dir = os.path.join(S2path, \"DATASTRIP\")\n",
    "\n",
    "# List of elements in the DATASTRIP directory\n",
    "datastrip_contents = os.listdir(datastrip_dir)\n",
    "\n",
    "# Filter directories in datastrip_contents\n",
    "directories = [item for item in datastrip_contents if os.path.isdir(os.path.join(datastrip_dir, item))]\n",
    "\n",
    "# Check that there is exactly one directory in DATASTRIP\n",
    "if len(directories) == 1:\n",
    "        # If only one directory is present, build the path to MTD_DS.xml\n",
    "    xml_path = os.path.join(datastrip_dir, directories[0], \"MTD_DS.xml\")\n",
    "    print(xml_path)\n",
    "else:\n",
    "    print(\"Il n'y a pas exactement un seul répertoire dans DATASTRIP.\")"
   ]
  },
  {
   "cell_type": "markdown",
   "id": "88374711-16de-4b17-acd6-8b0c57e641e0",
   "metadata": {},
   "source": [
    "### Renaud Binet's Code"
   ]
  },
  {
   "cell_type": "code",
   "execution_count": 1,
   "id": "d69aaa8b",
   "metadata": {},
   "outputs": [
    {
     "name": "stdout",
     "output_type": "stream",
     "text": [
      "dt= usage: main_computeDT.py [-h] -lon LONGITUDE -lat LATITUDE -src SRC_BAND -dst\n"
     ]
    }
   ],
   "source": [
    "dt1=!python main_computeDT.py -lon {loncenter} -lat {latcenter} -src B2 -dst B4 -det {Det} -sat {Sat} -eph {xml_path}\n",
    "print('dt=',dt1[0])"
   ]
  },
  {
   "cell_type": "markdown",
   "id": "8375b9dd-2619-477b-b801-6cff87379e6e",
   "metadata": {},
   "source": [
    "# Image normalisation and filtering"
   ]
  },
  {
   "cell_type": "markdown",
   "id": "3af658a1-c3bc-48d5-994c-366992e3ac92",
   "metadata": {},
   "source": [
    "### Normalisation\n",
    "We look at the band B04 and B02 -->  bands=['B04','B08','B03','B02'];  \n"
   ]
  },
  {
   "cell_type": "code",
   "execution_count": 9,
   "id": "9d1105bd",
   "metadata": {
    "tags": []
   },
   "outputs": [
    {
     "ename": "NameError",
     "evalue": "name 'imgs' is not defined",
     "output_type": "error",
     "traceback": [
      "\u001b[0;31m---------------------------------------------------------------------------\u001b[0m",
      "\u001b[0;31mNameError\u001b[0m                                 Traceback (most recent call last)",
      "Cell \u001b[0;32mIn[9], line 2\u001b[0m\n\u001b[1;32m      1\u001b[0m \u001b[38;5;66;03m# normalizes the image values\u001b[39;00m\n\u001b[0;32m----> 2\u001b[0m img1\u001b[38;5;241m=\u001b[39m\u001b[43mimgs\u001b[49m[\u001b[38;5;241m0\u001b[39m,:,:]\u001b[38;5;241m/\u001b[39mnp\u001b[38;5;241m.\u001b[39mmedian(imgs[\u001b[38;5;241m0\u001b[39m,:,:]\u001b[38;5;241m.\u001b[39mflatten())\n\u001b[1;32m      3\u001b[0m img2\u001b[38;5;241m=\u001b[39mimgs[\u001b[38;5;241m3\u001b[39m,:,:]\u001b[38;5;241m/\u001b[39mnp\u001b[38;5;241m.\u001b[39mmedian(imgs[\u001b[38;5;241m3\u001b[39m,:,:]\u001b[38;5;241m.\u001b[39mflatten())\n\u001b[1;32m      4\u001b[0m \u001b[38;5;66;03m# plt.imshow(np.flipud(np.transpose(img1)),vmin=0.8, vmax=1.5) #edit your vmin, vmax and cmap if you don't like greyscale colormap\u001b[39;00m\n\u001b[1;32m      5\u001b[0m \u001b[38;5;66;03m# plt.colorbar()\u001b[39;00m\n\u001b[1;32m      6\u001b[0m \u001b[38;5;66;03m# plt.show()\u001b[39;00m\n\u001b[1;32m      7\u001b[0m \u001b[38;5;66;03m# plt.imshow(np.flipud(np.transpose(img2)),vmin=0.8, vmax=1.5) #edit your vmin, vmax and cmap if you don't like greyscale colormap\u001b[39;00m\n\u001b[1;32m      8\u001b[0m \u001b[38;5;66;03m# plt.colorbar()\u001b[39;00m\n\u001b[1;32m      9\u001b[0m \u001b[38;5;66;03m# plt.show()\u001b[39;00m\n",
      "\u001b[0;31mNameError\u001b[0m: name 'imgs' is not defined"
     ]
    }
   ],
   "source": [
    "img1=imgs[0,:,:]/np.median(imgs[0,:,:].flatten())\n",
    "img2=imgs[3,:,:]/np.median(imgs[3,:,:].flatten())\n"
   ]
  },
  {
   "cell_type": "markdown",
   "id": "fe1ecfac-131e-4ce3-89b1-c2b2e1c6c3d7",
   "metadata": {},
   "source": [
    "### Filtering white cap"
   ]
  },
  {
   "cell_type": "code",
   "execution_count": 10,
   "id": "6bc62c37-4667-4aea-986e-b26d254f595b",
   "metadata": {},
   "outputs": [
    {
     "ename": "NameError",
     "evalue": "name 'img1' is not defined",
     "output_type": "error",
     "traceback": [
      "\u001b[0;31m---------------------------------------------------------------------------\u001b[0m",
      "\u001b[0;31mNameError\u001b[0m                                 Traceback (most recent call last)",
      "Cell \u001b[0;32mIn[10], line 1\u001b[0m\n\u001b[0;32m----> 1\u001b[0m gradient_sobel1 \u001b[38;5;241m=\u001b[39m sobel(\u001b[43mimg1\u001b[49m)\n\u001b[1;32m      2\u001b[0m gradient_sobel2\u001b[38;5;241m=\u001b[39msobel(img2)\n\u001b[1;32m      4\u001b[0m \u001b[38;5;66;03m# # Visualiser le gradient\u001b[39;00m\n\u001b[1;32m      5\u001b[0m \u001b[38;5;66;03m# plt.figure(figsize=(8, 4))\u001b[39;00m\n\u001b[1;32m      6\u001b[0m \u001b[38;5;66;03m# plt.imshow(gradient_sobel1, cmap=\"gray\", origin=\"upper\")\u001b[39;00m\n\u001b[0;32m   (...)\u001b[0m\n\u001b[1;32m     15\u001b[0m \u001b[38;5;66;03m# img_smoot2 = gaussian_filter(img2, sigma=1)\u001b[39;00m\n\u001b[1;32m     16\u001b[0m \u001b[38;5;66;03m# gradient_sobel2 = sobel(img_smoot2)\u001b[39;00m\n",
      "\u001b[0;31mNameError\u001b[0m: name 'img1' is not defined"
     ]
    }
   ],
   "source": [
    "gradient_sobel1 = sobel(img1)\n",
    "gradient_sobel2 = sobel(img2)\n",
    "\n",
    "# # Visualize the gradient\n",
    "# plt.figure(figsize=(8, 4))\n",
    "# plt.imshow(gradient_sobel1, cmap=\"gray\", origin=\"upper\")\n",
    "# plt.colorbar(label=\"Gradient amplitude\")\n",
    "# plt.title(\"Edge detection using Sobel gradient\")\n",
    "# plt.show()\n",
    "\n",
    "# from scipy.ndimage import gaussian_filter\n",
    "\n",
    "# Smooth the image using a Gaussian filter\n",
    "img_smooth = gaussian_filter(img1, sigma=1)\n",
    "gradient_sobel1 = sobel(img_smooth)\n",
    "img_smooth2 = gaussian_filter(img2, sigma=1)\n",
    "gradient_sobel2 = sobel(img_smooth2)\n",
    "\n",
    "# Define an automatic threshold\n",
    "threshold = np.percentile(gradient_sobel1, 95)  \n",
    "threshold2 = np.percentile(gradient_sobel2, 95)  \n",
    "\n",
    "mask = gradient_sobel1 < threshold  # Keep areas with a low gradient\n",
    "mask2 = gradient_sobel2 < threshold2  # Keep areas with a low gradient\n",
    "\n",
    "# Apply the mask to the original image\n",
    "filtered_image1 = np.where(mask, img1, np.nan)  # Replace masked pixels with NaN\n",
    "filtered_image2 = np.where(mask2, img2, np.nan)  # Replace masked pixels with NaN\n"
   ]
  },
  {
   "cell_type": "markdown",
   "id": "17388d4f-593a-4f30-8f2e-fd30ac5c5ba5",
   "metadata": {},
   "source": [
    "# Fourier transform with two images\n",
    "ntile: numbers of tile used for the welch. In the function FTT2D_two_arrays_nonan replaces the nan values in the images with the local mean "
   ]
  },
  {
   "cell_type": "code",
   "execution_count": 11,
   "id": "c274275b",
   "metadata": {
    "tags": []
   },
   "outputs": [
    {
     "ename": "NameError",
     "evalue": "name 'filtered_image1' is not defined",
     "output_type": "error",
     "traceback": [
      "\u001b[0;31m---------------------------------------------------------------------------\u001b[0m",
      "\u001b[0;31mNameError\u001b[0m                                 Traceback (most recent call last)",
      "Cell \u001b[0;32mIn[11], line 5\u001b[0m\n\u001b[1;32m      3\u001b[0m ntile\u001b[38;5;241m=\u001b[39m\u001b[38;5;241m16\u001b[39m \u001b[38;5;66;03m# le 10/01/25\u001b[39;00m\n\u001b[1;32m      4\u001b[0m \u001b[38;5;66;03m# ntile=8\u001b[39;00m\n\u001b[0;32m----> 5\u001b[0m (Eta,Etb,ang,angstd,coh,crosr,phases,kx2,ky2,dkx,dky)\u001b[38;5;241m=\u001b[39mFFT2D_two_arrays_nonan(\u001b[43mfiltered_image1\u001b[49m,filtered_image2,\u001b[38;5;241m10\u001b[39m,\u001b[38;5;241m10\u001b[39m,ntile,isplot\u001b[38;5;241m=\u001b[39m\u001b[38;5;241m0\u001b[39m)\n\u001b[1;32m      6\u001b[0m \u001b[38;5;28mprint\u001b[39m(np\u001b[38;5;241m.\u001b[39mshape(Eta))\n\u001b[1;32m      7\u001b[0m \u001b[38;5;28mprint\u001b[39m(np\u001b[38;5;241m.\u001b[39mshape(kx2))\n",
      "\u001b[0;31mNameError\u001b[0m: name 'filtered_image1' is not defined"
     ]
    }
   ],
   "source": [
    "ntile=16 # le 10/01/25\n",
    "# ntile=8\n",
    "(Eta,Etb,ang,angstd,coh,crosr,phases,kx2,ky2,dkx,dky)=FFT2D_two_arrays_nonan(filtered_image1,filtered_image2,10,10,ntile,isplot=0)\n",
    "print(np.shape(Eta))\n",
    "print(np.shape(kx2))\n",
    "print(np.shape(ky2))\n",
    "\n",
    "\n",
    "phiblind1=phitrig[0]+90.  # blind azimuth for first band\n",
    "phiblind2=phitrig[1]+90.  # blind azimuth for 3rd band\n",
    "phiblind3=phitrig[2]+90.  # blind azimuth for 3rd band\n",
    "kN=50\n",
    "xkblind=[-1.4*kN*np.sin(np.radians(phiblind2)) , 1.4*kN*np.sin(np.radians(phiblind2))]\n",
    "ykblind=[-1.4*kN*np.cos(np.radians(phiblind2)) , 1.4*kN*np.cos(np.radians(phiblind2))]\n",
    "\n",
    "\n",
    "X = np.arange(0,nx*dx,dx) # from 0 to (nx-1)*dx with a dx step\n",
    "Y = np.arange(0,ny*dy,dy)"
   ]
  },
  {
   "cell_type": "code",
   "execution_count": 14,
   "id": "d90620db",
   "metadata": {
    "tags": []
   },
   "outputs": [
    {
     "ename": "NameError",
     "evalue": "name 'kx2' is not defined",
     "output_type": "error",
     "traceback": [
      "\u001b[0;31m---------------------------------------------------------------------------\u001b[0m",
      "\u001b[0;31mNameError\u001b[0m                                 Traceback (most recent call last)",
      "Cell \u001b[0;32mIn[14], line 1\u001b[0m\n\u001b[0;32m----> 1\u001b[0m dir2a\u001b[38;5;241m=\u001b[39mnp\u001b[38;5;241m.\u001b[39mdegrees(np\u001b[38;5;241m.\u001b[39marctan2(\u001b[43mkx2\u001b[49m,ky2))\n\u001b[1;32m      2\u001b[0m kn\u001b[38;5;241m=\u001b[39mnp\u001b[38;5;241m.\u001b[39msqrt(kx2\u001b[38;5;241m*\u001b[39m\u001b[38;5;241m*\u001b[39m\u001b[38;5;241m2\u001b[39m\u001b[38;5;241m+\u001b[39mky2\u001b[38;5;241m*\u001b[39m\u001b[38;5;241m*\u001b[39m\u001b[38;5;241m2\u001b[39m)\u001b[38;5;241m*\u001b[39m(\u001b[38;5;241m2\u001b[39m\u001b[38;5;241m*\u001b[39mnp\u001b[38;5;241m.\u001b[39mpi)\u001b[38;5;241m+\u001b[39m\u001b[38;5;241m1E-20\u001b[39m \u001b[38;5;66;03m#Jusque là les dimmensions sont ok avec Matlab\u001b[39;00m\n\u001b[1;32m      3\u001b[0m kncpk\u001b[38;5;241m=\u001b[39mkn\u001b[38;5;241m/\u001b[39m(\u001b[38;5;241m2\u001b[39m\u001b[38;5;241m*\u001b[39mnp\u001b[38;5;241m.\u001b[39mpi)\u001b[38;5;241m*\u001b[39m\u001b[38;5;241m1000\u001b[39m\n",
      "\u001b[0;31mNameError\u001b[0m: name 'kx2' is not defined"
     ]
    }
   ],
   "source": [
    "dir2a=np.degrees(np.arctan2(kx2,ky2))\n",
    "kn=np.sqrt(kx2**2+ky2**2)*(2*np.pi)+1E-20 \n",
    "kncpk=kn/(2*np.pi)*1000"
   ]
  },
  {
   "cell_type": "markdown",
   "id": "13d3e927-bcc8-4135-be81-c32bd498d8af",
   "metadata": {},
   "source": [
    "## Calculation of wave celerity"
   ]
  },
  {
   "cell_type": "code",
   "execution_count": 16,
   "id": "04d0c399",
   "metadata": {
    "scrolled": true,
    "tags": []
   },
   "outputs": [
    {
     "ename": "NameError",
     "evalue": "name 'kx2' is not defined",
     "output_type": "error",
     "traceback": [
      "\u001b[0;31m---------------------------------------------------------------------------\u001b[0m",
      "\u001b[0;31mNameError\u001b[0m                                 Traceback (most recent call last)",
      "Cell \u001b[0;32mIn[16], line 1\u001b[0m\n\u001b[0;32m----> 1\u001b[0m dir2a\u001b[38;5;241m=\u001b[39mnp\u001b[38;5;241m.\u001b[39mdegrees(np\u001b[38;5;241m.\u001b[39marctan2(\u001b[43mkx2\u001b[49m,ky2))\n\u001b[1;32m      2\u001b[0m kn\u001b[38;5;241m=\u001b[39mnp\u001b[38;5;241m.\u001b[39msqrt(kx2\u001b[38;5;241m*\u001b[39m\u001b[38;5;241m*\u001b[39m\u001b[38;5;241m2\u001b[39m\u001b[38;5;241m+\u001b[39mky2\u001b[38;5;241m*\u001b[39m\u001b[38;5;241m*\u001b[39m\u001b[38;5;241m2\u001b[39m)\u001b[38;5;241m*\u001b[39m(\u001b[38;5;241m2\u001b[39m\u001b[38;5;241m*\u001b[39mnp\u001b[38;5;241m.\u001b[39mpi)\u001b[38;5;241m+\u001b[39m\u001b[38;5;241m1E-20\u001b[39m\n\u001b[1;32m      4\u001b[0m \u001b[38;5;66;03m# dirC1=-50\u001b[39;00m\n\u001b[1;32m      5\u001b[0m \u001b[38;5;66;03m# dirC2=-40\u001b[39;00m\n\u001b[1;32m      6\u001b[0m \n\u001b[0;32m   (...)\u001b[0m\n\u001b[1;32m     12\u001b[0m \u001b[38;5;66;03m# dirC1=-40\u001b[39;00m\n\u001b[1;32m     13\u001b[0m \u001b[38;5;66;03m# dirC2=-30\u001b[39;00m\n",
      "\u001b[0;31mNameError\u001b[0m: name 'kx2' is not defined"
     ]
    }
   ],
   "source": [
    "dir2a=np.degrees(np.arctan2(kx2,ky2))\n",
    "kn=np.sqrt(kx2**2+ky2**2)*(2*np.pi)+1E-20\n",
    "dirC1=-100\n",
    "dirC2=-90\n",
    "\n",
    "dt=float(dt1[0])\n",
    "# dt=dt1\n",
    "J =np.where((coh > 0.01) & (dir2a < dirC2) & (dir2a > dirC1) & (np.degrees(angstd)  < 60) )\n",
    "J2=np.where((coh > 0.01) & (dir2a < dirC2) & (dir2a > dirC1) )\n",
    "dispt=np.sqrt(9.81/kn)\n",
    "Cimg=ang/kn/dt\n",
    "Cstd=angstd/kn/abs(dt)"
   ]
  },
  {
   "cell_type": "markdown",
   "id": "4f2d6d78-a6ec-48ed-a6fb-91c33f7e2418",
   "metadata": {},
   "source": [
    "## fit the phase plane to determine the current components"
   ]
  },
  {
   "cell_type": "code",
   "execution_count": 20,
   "id": "5c1f06b8",
   "metadata": {
    "editable": true,
    "slideshow": {
     "slide_type": ""
    },
    "tags": []
   },
   "outputs": [
    {
     "ename": "NameError",
     "evalue": "name 'dt' is not defined",
     "output_type": "error",
     "traceback": [
      "\u001b[0;31m---------------------------------------------------------------------------\u001b[0m",
      "\u001b[0;31mNameError\u001b[0m                                 Traceback (most recent call last)",
      "Cell \u001b[0;32mIn[20], line 2\u001b[0m\n\u001b[1;32m      1\u001b[0m d2r\u001b[38;5;241m=\u001b[39mnp\u001b[38;5;241m.\u001b[39mpi\u001b[38;5;241m/\u001b[39m\u001b[38;5;241m180\u001b[39m\n\u001b[0;32m----> 2\u001b[0m phase_o \u001b[38;5;241m=\u001b[39m \u001b[38;5;28mabs\u001b[39m(\u001b[43mdt\u001b[49m) \u001b[38;5;241m*\u001b[39m np\u001b[38;5;241m.\u001b[39msqrt(\u001b[38;5;241m9.81\u001b[39m \u001b[38;5;241m*\u001b[39m kn)  \u001b[38;5;66;03m# phase from linear theory (deep water)\u001b[39;00m\n\u001b[1;32m      3\u001b[0m phase_diff\u001b[38;5;241m=\u001b[39mang\u001b[38;5;241m-\u001b[39mphase_o\u001b[38;5;241m*\u001b[39mnp\u001b[38;5;241m.\u001b[39msign(ang)\u001b[38;5;66;03m# phase_diff should be equal to kx.Ux + ky.Uy ...\u001b[39;00m\n\u001b[1;32m      5\u001b[0m \u001b[38;5;66;03m# FA modifications for later  : manages the possible sign flip : uses the +phase or -phase ... \u001b[39;00m\n\u001b[1;32m      6\u001b[0m \u001b[38;5;66;03m# Better trick from Nicolas: work with complex numbers and divide the complex phase by exp(-i*omega*t)  ... \u001b[39;00m\n",
      "\u001b[0;31mNameError\u001b[0m: name 'dt' is not defined"
     ]
    }
   ],
   "source": [
    "d2r=np.pi/180\n",
    "phase_o = abs(dt) * np.sqrt(9.81 * kn)  # phase from linear theory (deep water)\n",
    "phase_diff=ang-phase_o*np.sign(ang)# phase_diff should be equal to kx.Ux + ky.Uy ...\n",
    "\n",
    "# FA modifications for later  : manages the possible sign flip : uses the +phase or -phase ... \n",
    "# Better trick from Nicolas: work with complex numbers and divide the complex phase by exp(-i*omega*t)  ... \n",
    "\n",
    "Clin=np.sqrt(9.81/kn)\n",
    "philinp= (Clin*kn*dt+pi)%(2*np.pi)-np.pi   # % is the mod operator: np.remainder \n",
    "philinm= (-Clin*kn*dt+pi)%(2*pi)-np.pi\n",
    "Cimg0=(ang-philinm)/kn/dt;\n",
    "Cimg2=(ang-philinp)/kn/dt;\n",
    "signchoice=np.where(abs(Cimg2) < abs(Cimg0));\n",
    "Cimg0[signchoice]=Cimg2[signchoice];\n",
    "Cimgp=Cimg0;\n",
    "kfac=1000/(2*np.pi)\n",
    "J3=np.where( (coh < 0.64) | (kn < 10/kfac) ) #; % | dir2a < 0); % | dir2a > 90);\n",
    "Cimgp[J3]=numpy.nan;\n",
    "\n",
    "# k_min_fit = 15 # in cpk\n",
    "# 17/05/2024\n",
    "k_min_fit=35  #in cpk\n",
    "\n",
    "# k_max_fit = 35 # in cpk\n",
    "# 21/05/2024\n",
    "k_max_fit=45 # in cpk\n",
    "std_max = 60*d2r\n",
    "id_fit = np.where((angstd.flatten()  < std_max)  & (kncpk.flatten() >= k_min_fit) & (kncpk.flatten() <= k_max_fit))[0]  # & phase > 0\n",
    "\n",
    "angstd1=angstd.flatten()\n",
    "phase_diff1=phase_diff.flatten()\n",
    "weight = ntile**2 / (angstd1[id_fit] ** 2)/dt**2\n",
    "kx1=kx2.flatten()\n",
    "ky1=ky2.flatten()\n",
    "K_x_fit = kx1[id_fit]\n",
    "K_y_fit = ky1[id_fit]\n",
    "Y = phase_diff1[id_fit] / dt\n",
    "C=np.diag(weight)\n",
    "A=(np.column_stack((K_x_fit ,K_y_fit)))*(2*np.pi)  # these are now in rad / m \n",
    "\n",
    "# Pondération \n",
    "\n",
    "ATC=np.matmul(A.T,C)\n",
    "D=np.matmul(ATC,A)\n",
    "#print('A:',A)\n",
    "DI=np.linalg.inv(D)\n",
    "X=np.matmul(DI,np.matmul(ATC,Y))\n",
    "print('U and V components of current :',X)\n",
    "\n",
    "\n",
    "sigU=np.sqrt(abs(DI))\n",
    "print('uncertainties for U and V:',sigU[0,0],sigU[1,1])\n",
    "\n",
    "\n",
    "\n",
    "\n",
    "fig = plt.figure(figsize=(12,8))\n",
    "ax = fig.add_subplot(111)\n",
    "ax.scatter(K_x_fit, K_y_fit)\n",
    "ax.set_title('selected spectral components for fit')\n"
   ]
  }
 ],
 "metadata": {
  "kernelspec": {
   "display_name": "Python 3 (ipykernel)",
   "language": "python",
   "name": "python3"
  },
  "language_info": {
   "codemirror_mode": {
    "name": "ipython",
    "version": 3
   },
   "file_extension": ".py",
   "mimetype": "text/x-python",
   "name": "python",
   "nbconvert_exporter": "python",
   "pygments_lexer": "ipython3",
   "version": "3.12.7"
  }
 },
 "nbformat": 4,
 "nbformat_minor": 5
}
